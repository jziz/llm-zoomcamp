{
 "cells": [
  {
   "cell_type": "code",
   "execution_count": null,
   "id": "d57d5a4e-ac2e-42ec-8137-d44d8acac40a",
   "metadata": {},
   "outputs": [],
   "source": []
  }
 ],
 "metadata": {
  "kernelspec": {
   "display_name": "",
   "name": ""
  },
  "language_info": {
   "name": ""
  }
 },
 "nbformat": 4,
 "nbformat_minor": 5
}
